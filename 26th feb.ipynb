{
 "cells": [
  {
   "cell_type": "markdown",
   "id": "afee13a2-d054-4597-83c0-732a99ff2b73",
   "metadata": {},
   "source": [
    "Q1. Is there any difference in the data type of variables list_ and array_list? If there is then write a code to print the data types of both the variables."
   ]
  },
  {
   "cell_type": "code",
   "execution_count": 1,
   "id": "b03c6377-6d48-4dd7-b51e-2fb1867549c3",
   "metadata": {},
   "outputs": [],
   "source": [
    "import numpy as np\n",
    "list_ = ['1','2','3','4','5']\n",
    "array_list = np.array(object = list_)"
   ]
  },
  {
   "cell_type": "code",
   "execution_count": 2,
   "id": "326a9dd3-8769-4e3a-9a4f-f1507a261fb1",
   "metadata": {},
   "outputs": [
    {
     "data": {
      "text/plain": [
       "['1', '2', '3', '4', '5']"
      ]
     },
     "execution_count": 2,
     "metadata": {},
     "output_type": "execute_result"
    }
   ],
   "source": [
    "list_"
   ]
  },
  {
   "cell_type": "code",
   "execution_count": 3,
   "id": "cb566053-8806-4bfe-9f49-a0f0ac5c1ace",
   "metadata": {},
   "outputs": [
    {
     "data": {
      "text/plain": [
       "array(['1', '2', '3', '4', '5'], dtype='<U1')"
      ]
     },
     "execution_count": 3,
     "metadata": {},
     "output_type": "execute_result"
    }
   ],
   "source": [
    "array_list"
   ]
  },
  {
   "cell_type": "markdown",
   "id": "124f415d-84e4-471e-96c4-193bd6884a17",
   "metadata": {},
   "source": [
    "Yes, there is a difference in the data type of the list_ and array_list variables.\n",
    "\n",
    "The list_ variable is a python list of strings, whereas array_list is a numpy array of strings. Even they both contain the same string values, they have different data types because they are different types of objects."
   ]
  },
  {
   "cell_type": "code",
   "execution_count": 4,
   "id": "0b9b6f04-7f37-453a-b2c6-460c538f6ff8",
   "metadata": {},
   "outputs": [
    {
     "data": {
      "text/plain": [
       "list"
      ]
     },
     "execution_count": 4,
     "metadata": {},
     "output_type": "execute_result"
    }
   ],
   "source": [
    "type(list_)"
   ]
  },
  {
   "cell_type": "code",
   "execution_count": 5,
   "id": "a7cebe06-ee66-4cb9-b1ea-a8605ca83fa4",
   "metadata": {},
   "outputs": [
    {
     "data": {
      "text/plain": [
       "numpy.ndarray"
      ]
     },
     "execution_count": 5,
     "metadata": {},
     "output_type": "execute_result"
    }
   ],
   "source": [
    "type(array_list)"
   ]
  },
  {
   "cell_type": "markdown",
   "id": "0522e078-cf74-4bc0-9e3e-9ef07644c24b",
   "metadata": {},
   "source": [
    "Q2. Write a code to print the data type of each and every element of both the variables list_ and arra_list."
   ]
  },
  {
   "cell_type": "code",
   "execution_count": 6,
   "id": "dc960117-58b0-4e05-b1d1-356c5d7bc719",
   "metadata": {},
   "outputs": [
    {
     "name": "stdout",
     "output_type": "stream",
     "text": [
      "element:1 , datatype <class 'str'>\n",
      "element:2 , datatype <class 'str'>\n",
      "element:3 , datatype <class 'str'>\n",
      "element:4 , datatype <class 'str'>\n",
      "element:5 , datatype <class 'str'>\n"
     ]
    }
   ],
   "source": [
    "for i in list_:\n",
    "    print(f\"element:{i} , datatype {type(i)}\")"
   ]
  },
  {
   "cell_type": "code",
   "execution_count": 7,
   "id": "424b81b3-9722-4e99-8754-e80baec442c8",
   "metadata": {},
   "outputs": [
    {
     "name": "stdout",
     "output_type": "stream",
     "text": [
      "element:1 , datatype <class 'numpy.str_'>\n",
      "element:2 , datatype <class 'numpy.str_'>\n",
      "element:3 , datatype <class 'numpy.str_'>\n",
      "element:4 , datatype <class 'numpy.str_'>\n",
      "element:5 , datatype <class 'numpy.str_'>\n"
     ]
    }
   ],
   "source": [
    "for i in array_list:\n",
    "    print(f\"element:{i} , datatype {type(i)}\")"
   ]
  },
  {
   "cell_type": "markdown",
   "id": "531868b5-b5f2-4b68-8c34-68aca81a3794",
   "metadata": {},
   "source": [
    "Q3. Considering the following changes in the variable, array_list:\n",
    "\n",
    "array_list = np.array(object = list_, dtype = int)\n",
    "\n",
    "Will there be any difference in the data type of the elements present in both the variables, list_ and arra_list? If so then print the data types of each and every element present in both the variables, list_ and arra_list."
   ]
  },
  {
   "cell_type": "code",
   "execution_count": 8,
   "id": "fd3de29a-c0c2-41b9-bf03-1c2f149239d4",
   "metadata": {},
   "outputs": [],
   "source": [
    "array_list = np.array(object = list_, dtype = int)\n"
   ]
  },
  {
   "cell_type": "code",
   "execution_count": 9,
   "id": "4a63134e-bed4-4d6e-96f7-6190a5c1d444",
   "metadata": {},
   "outputs": [
    {
     "data": {
      "text/plain": [
       "numpy.ndarray"
      ]
     },
     "execution_count": 9,
     "metadata": {},
     "output_type": "execute_result"
    }
   ],
   "source": [
    "type(array_list)"
   ]
  },
  {
   "cell_type": "code",
   "execution_count": 10,
   "id": "fdf333cc-022f-4d16-99df-5578a80cad54",
   "metadata": {},
   "outputs": [
    {
     "data": {
      "text/plain": [
       "list"
      ]
     },
     "execution_count": 10,
     "metadata": {},
     "output_type": "execute_result"
    }
   ],
   "source": [
    "type(list_)"
   ]
  },
  {
   "cell_type": "markdown",
   "id": "c181e0e4-a163-4ab9-88f0-dc96b68c8171",
   "metadata": {},
   "source": [
    "Yes now the datatype of array_list is change to 'numpy.int' and the datatype of each element in list_ is same as above 'str'"
   ]
  },
  {
   "cell_type": "code",
   "execution_count": 11,
   "id": "74840710-5217-4685-bbb0-e7b6d61f9150",
   "metadata": {},
   "outputs": [
    {
     "name": "stdout",
     "output_type": "stream",
     "text": [
      "Element: 1, datatype: <class 'numpy.int64'>\n",
      "Element: 2, datatype: <class 'numpy.int64'>\n",
      "Element: 3, datatype: <class 'numpy.int64'>\n",
      "Element: 4, datatype: <class 'numpy.int64'>\n",
      "Element: 5, datatype: <class 'numpy.int64'>\n"
     ]
    }
   ],
   "source": [
    "for i in array_list:\n",
    "    print(f\"Element: {i}, datatype: {type(i)}\")"
   ]
  },
  {
   "cell_type": "code",
   "execution_count": 12,
   "id": "28e81ff2-5994-4b3b-903f-c9bcd2bb23df",
   "metadata": {},
   "outputs": [
    {
     "name": "stdout",
     "output_type": "stream",
     "text": [
      "Element: 1, datatype: <class 'str'>\n",
      "Element: 2, datatype: <class 'str'>\n",
      "Element: 3, datatype: <class 'str'>\n",
      "Element: 4, datatype: <class 'str'>\n",
      "Element: 5, datatype: <class 'str'>\n"
     ]
    }
   ],
   "source": [
    "for i in list_:\n",
    "    print(f\"Element: {i}, datatype: {type(i)}\")"
   ]
  },
  {
   "cell_type": "markdown",
   "id": "0907cddc-1d82-47cc-a5a3-0645248fee26",
   "metadata": {},
   "source": [
    "Q4. Write a code to find the following characteristics of variable, num_array: (i) shape (ii) size\n",
    "\n",
    "Consider the below code to answer further questions:\n",
    "\n",
    "import numpy as np\n",
    "\n",
    "num_list = [ [ 1 , 2 , 3 ] , [ 4 , 5 , 6 ] ]\n",
    "\n",
    "num_array = np.array(object = num_list)"
   ]
  },
  {
   "cell_type": "code",
   "execution_count": 13,
   "id": "003921f4-4342-4499-a7a1-ebb488bcd39f",
   "metadata": {},
   "outputs": [],
   "source": [
    "import numpy as np\n",
    "num_list = [ [ 1 , 2 , 3 ] , [ 4 , 5 , 6 ] ]\n",
    "num_array = np.array(object = num_list)"
   ]
  },
  {
   "cell_type": "code",
   "execution_count": 14,
   "id": "5204da1d-3967-4667-85c0-4579319cd400",
   "metadata": {},
   "outputs": [
    {
     "data": {
      "text/plain": [
       "6"
      ]
     },
     "execution_count": 14,
     "metadata": {},
     "output_type": "execute_result"
    }
   ],
   "source": [
    "num_array.size"
   ]
  },
  {
   "cell_type": "code",
   "execution_count": 15,
   "id": "c502a463-81c8-4150-a192-6bce57547e10",
   "metadata": {},
   "outputs": [
    {
     "data": {
      "text/plain": [
       "(2, 3)"
      ]
     },
     "execution_count": 15,
     "metadata": {},
     "output_type": "execute_result"
    }
   ],
   "source": [
    "num_array.shape"
   ]
  },
  {
   "cell_type": "markdown",
   "id": "7a72e1aa-2af5-4623-b0cc-c84b3c2b5c25",
   "metadata": {},
   "source": [
    "Q5. Write a code to create numpy array of 3*3 matrix containing zeros only, using a numpy array creation function. [Hint: The size of the array will be 9 and the shape will be (3,3).]"
   ]
  },
  {
   "cell_type": "code",
   "execution_count": 16,
   "id": "19552acd-a70b-4958-89ce-49accea4bc9b",
   "metadata": {},
   "outputs": [],
   "source": [
    "matrix = np.zeros(3)"
   ]
  },
  {
   "cell_type": "code",
   "execution_count": 17,
   "id": "4003566b-ab5a-4d86-8b0c-3a786d863ac0",
   "metadata": {},
   "outputs": [
    {
     "data": {
      "text/plain": [
       "array([0., 0., 0.])"
      ]
     },
     "execution_count": 17,
     "metadata": {},
     "output_type": "execute_result"
    }
   ],
   "source": [
    "matrix"
   ]
  },
  {
   "cell_type": "code",
   "execution_count": 18,
   "id": "eb14c5d5-72c3-4534-a97b-859447006827",
   "metadata": {},
   "outputs": [
    {
     "data": {
      "text/plain": [
       "3"
      ]
     },
     "execution_count": 18,
     "metadata": {},
     "output_type": "execute_result"
    }
   ],
   "source": [
    "matrix.size"
   ]
  },
  {
   "cell_type": "markdown",
   "id": "ebf409b3-b623-4cfe-8211-cb8d0da952a4",
   "metadata": {},
   "source": [
    "Q6. Create an identity matrix of shape (5,5) using numpy functions? [Hint: An identity matrix is a matrix containing 1 diagonally and other elements will be 0.]"
   ]
  },
  {
   "cell_type": "code",
   "execution_count": 19,
   "id": "cd26f35b-6f99-457d-b50a-0ae348157320",
   "metadata": {},
   "outputs": [],
   "source": [
    "Identity_matrix = np.eye(5)"
   ]
  },
  {
   "cell_type": "code",
   "execution_count": 20,
   "id": "cebf7fdc-a4f3-491d-9133-e36c8b668d5d",
   "metadata": {},
   "outputs": [
    {
     "data": {
      "text/plain": [
       "array([[1., 0., 0., 0., 0.],\n",
       "       [0., 1., 0., 0., 0.],\n",
       "       [0., 0., 1., 0., 0.],\n",
       "       [0., 0., 0., 1., 0.],\n",
       "       [0., 0., 0., 0., 1.]])"
      ]
     },
     "execution_count": 20,
     "metadata": {},
     "output_type": "execute_result"
    }
   ],
   "source": [
    "Identity_matrix"
   ]
  },
  {
   "cell_type": "code",
   "execution_count": null,
   "id": "67ee4dfb-2477-4a7f-83d5-eea96ba02e95",
   "metadata": {},
   "outputs": [],
   "source": []
  }
 ],
 "metadata": {
  "kernelspec": {
   "display_name": "Python 3 (ipykernel)",
   "language": "python",
   "name": "python3"
  },
  "language_info": {
   "codemirror_mode": {
    "name": "ipython",
    "version": 3
   },
   "file_extension": ".py",
   "mimetype": "text/x-python",
   "name": "python",
   "nbconvert_exporter": "python",
   "pygments_lexer": "ipython3",
   "version": "3.10.8"
  }
 },
 "nbformat": 4,
 "nbformat_minor": 5
}
